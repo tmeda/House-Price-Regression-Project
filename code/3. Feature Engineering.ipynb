{
 "cells": [
  {
   "cell_type": "code",
   "execution_count": 1,
   "id": "c81d05b6",
   "metadata": {},
   "outputs": [],
   "source": [
    "import pandas as pd\n",
    "from sklearn.preprocessing import MinMaxScaler\n",
    "import numpy as np\n",
    "import statsmodels.api as sm\n",
    "df=pd.read_csv('./../data/train_clean.csv')"
   ]
  },
  {
   "cell_type": "markdown",
   "id": "394d78dc",
   "metadata": {},
   "source": [
    "<p style=\"font-size:25px\">In this notebook, I will be engineering features for this project. </p>\n",
    "</br>\n",
    "<p style=\"font-size:16px;\">My process for feature engineering in this project consists of the following:</p>\n",
    "<ol>\n",
    "    <li><b>Remove more useless variables</b></li>\n",
    "    <dd>After some analysis, I was able to find more variables with little to no predictive power so I dropped them.</dd>\n",
    "    <li><b>Removing homes with outlier prices</b></li>\n",
    "    <dd>As mentioned in the previous section, I wish for my model to be used for the average home because that is what is most popular so I don't want my model to look at houses that are statistically abnormal in price.</dd>\n",
    "    <li><b>Removing heavily imbalanced qualitative variables</b></li>\n",
    "    <dd>Heavily imbalanced quantitative variables are essentially constants and don't offer any predictive power.</dd>\n",
    "    <li><b>Creating Indicator Variables</b></li>\n",
    "    <dd>Not all houses have the same features, so I created indicator variables that signal whether a house has a specific feature or not.</dd>  \n",
    "    <li><b>Scaling Dependent Variables</b></li>\n",
    "    <dd>Scaling the dependent variables gives them equal weight which can help with model performance</dd> \n",
    "    <li><b>Removing Influential Points</b></li>\n",
    "    <dd>Influential points hurt model performance so it is best to remove them.</dd> \n",
    "</ol>    "
   ]
  },
  {
   "cell_type": "code",
   "execution_count": 2,
   "id": "7503f07c",
   "metadata": {},
   "outputs": [],
   "source": [
    "#Removing more useless variables\n",
    "df=df.drop(columns=['MoSold','YrSold','Id'])"
   ]
  },
  {
   "cell_type": "code",
   "execution_count": 3,
   "id": "b2ffbad8",
   "metadata": {},
   "outputs": [],
   "source": [
    "#Removing home price outliers\n",
    "q1=df['SalePrice'].quantile(.25)\n",
    "q3=df['SalePrice'].quantile(.75)\n",
    "iqr=q3-q1\n",
    "df=df[df['SalePrice']<q3+iqr*1.5]\n",
    "df=df[df['SalePrice']>q1-iqr*1.5]"
   ]
  },
  {
   "cell_type": "code",
   "execution_count": 4,
   "id": "80fa6d01",
   "metadata": {},
   "outputs": [],
   "source": [
    "#Removing heavily imbalanced quantitative variables\n",
    "temp=[i for i in df.columns if i not in df.corr().columns]\n",
    "temp=df[temp]\n",
    "temp=temp.describe().T\n",
    "temp['freq (as a percentage)']=temp['freq']/temp['count']\n",
    "rem=temp[temp['freq (as a percentage)']>.9].index\n",
    "df=df.drop(columns=rem)"
   ]
  },
  {
   "cell_type": "code",
   "execution_count": 5,
   "id": "472080ed",
   "metadata": {},
   "outputs": [],
   "source": [
    "#creating variables\n",
    "temp2=[]\n",
    "import matplotlib.pyplot as plt\n",
    "for col in df.corr().columns:\n",
    "    temp=[str(i) for i in df[col]]\n",
    "    temp=pd.DataFrame(temp)\n",
    "    temp=temp.value_counts()\n",
    "    if temp[0]>.5*df.shape[0]:\n",
    "        if len(temp)>10:\n",
    "            df['has_'+col]=[i if i==0 else 1 for i in df[col]]\n",
    "            temp2.append(col)\n",
    "temp=df['YearBuilt']==df['YearRemodAdd']\n",
    "df['is_house_remod']=[1 if i ==True else 0 for i in temp]\n",
    "temp=df['YearBuilt']==df['GarageYrBlt']\n",
    "df['is_built_with_garage']=[1 if i ==True else 0 for i in temp]\n",
    "temp=df['YearRemodAdd']==df['GarageYrBlt']\n",
    "df['remod_with_garage']=[1 if i ==True else 0 for i in temp]"
   ]
  },
  {
   "cell_type": "code",
   "execution_count": 6,
   "id": "aae15da8",
   "metadata": {},
   "outputs": [],
   "source": [
    "temp=df['SalePrice']\n",
    "df=pd.get_dummies(df,drop_first=True)"
   ]
  },
  {
   "cell_type": "code",
   "execution_count": 7,
   "id": "4c27df37",
   "metadata": {},
   "outputs": [],
   "source": [
    "from sklearn.preprocessing import MinMaxScaler\n",
    "scaler = MinMaxScaler()\n",
    "df=pd.DataFrame(scaler.fit_transform(df),columns=df.columns)"
   ]
  },
  {
   "cell_type": "code",
   "execution_count": 8,
   "id": "0fddd634",
   "metadata": {},
   "outputs": [],
   "source": [
    "df['SalePrice']=[i for i in temp]"
   ]
  },
  {
   "cell_type": "code",
   "execution_count": 9,
   "id": "bc484032",
   "metadata": {},
   "outputs": [],
   "source": [
    "#Removing inflential points\n",
    "temp=df.corr()\n",
    "temp=temp[temp['SalePrice']>.5]\n",
    "temp['SalePrice'].index[:-1]\n",
    "for col in temp['SalePrice'].index[:-1]:\n",
    "    x=df[col]\n",
    "    y=df['SalePrice']\n",
    "    \n",
    "    x = sm.add_constant(x)\n",
    "    model = sm.OLS(y,x).fit()\n",
    "\n",
    "    np.set_printoptions(suppress=True)\n",
    "\n",
    "    #create instance of influence\n",
    "    influence = model.get_influence()\n",
    "\n",
    "    #obtain Cook's distance for each observation\n",
    "    cooks = influence.cooks_distance\n",
    "\n",
    "    temp=pd.DataFrame([df[col],df['SalePrice'],cooks[0]]).T\n",
    "    temp.columns=[col,'SalePrice','c.d.']\n",
    "    temp=temp[temp['c.d.']>0.5]\n",
    "    if temp.shape[0]!=0:\n",
    "        for i in temp[col]:\n",
    "            df=df[df[col]!=i]"
   ]
  },
  {
   "cell_type": "code",
   "execution_count": 10,
   "id": "5f937c2a",
   "metadata": {},
   "outputs": [],
   "source": [
    "df.to_csv('./../data/data.csv',index=False)"
   ]
  }
 ],
 "metadata": {
  "kernelspec": {
   "display_name": "Python 3",
   "language": "python",
   "name": "python3"
  },
  "language_info": {
   "codemirror_mode": {
    "name": "ipython",
    "version": 3
   },
   "file_extension": ".py",
   "mimetype": "text/x-python",
   "name": "python",
   "nbconvert_exporter": "python",
   "pygments_lexer": "ipython3",
   "version": "3.8.8"
  }
 },
 "nbformat": 4,
 "nbformat_minor": 5
}
