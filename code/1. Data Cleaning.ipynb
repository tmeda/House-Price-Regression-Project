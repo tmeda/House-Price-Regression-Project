{
 "cells": [
  {
   "cell_type": "code",
   "execution_count": 1,
   "id": "2d08ab38",
   "metadata": {},
   "outputs": [],
   "source": [
    "import warnings\n",
    "import pandas as pd\n",
    "import miceforest as mf\n",
    "warnings.filterwarnings('ignore')\n",
    "from sklearn.preprocessing import LabelEncoder"
   ]
  },
  {
   "cell_type": "code",
   "execution_count": 2,
   "id": "0fd139bf",
   "metadata": {},
   "outputs": [],
   "source": [
    "filepath='./../data/train.csv'\n",
    "df=pd.read_csv(filepath)"
   ]
  },
  {
   "cell_type": "markdown",
   "id": "f8961216",
   "metadata": {},
   "source": [
    "<p style=\"font-size:25px;\">In this notebook, I will be cleaning the data for this project. </p>\n",
    "</br>\n",
    "<p style=\"font-size:16px;\">Because all of the data exists in one table, there isn't much to do in terms of cleaning. My proccess consists of three parts.</p>\n",
    "<ol>\n",
    "    <li><b>Dropping ordinal data.</b></li>\n",
    "    <dd>Oridinal data are categorical variables that have an order. It is unclear what determines their order, but it does exist. Take the rating system for products on Amazon as an example. You know a 4 star rating is better than a 5 star rating, but its unclear what differentiates the two ratings. Because there is a no clear definition of the different ratings, the ordinal data is too subjective to be usefull in this project. </dd>\n",
    "    <li><b>Dropping \"Miscellaneous\" columns</b></li>\n",
    "    <dd>According to the data dictionary, the \"MiscFeature\" column records miscellaneous features not covered in other categories and the \"MiscVal\" column records the value of the miscellaneous feature. These features include things like elevators and tennis courts which aren't very common so I decided to drop these columns. </dd>\n",
    "    <li><b>Handling missing values</b></li>\n",
    "    <dd>Missing data is a real challenge for machine learning algorithms. They rely on the data to learn so not having it is  never a good thing. When handling missing values, I try to keep as much data as I can with imputation while dropping any data that is beyond saving. For imputation, I started by using the Mice algorithm to replace the missing values. When that didn't work, I simply imputed the median for numeric data and mode for categorical data. </dd>\n",
    "</ol>  "
   ]
  },
  {
   "cell_type": "code",
   "execution_count": 3,
   "id": "523ce522",
   "metadata": {},
   "outputs": [
    {
     "name": "stdout",
     "output_type": "stream",
     "text": [
      "Before cleaning, the data has 1460 rows and 81 columns.\n"
     ]
    }
   ],
   "source": [
    "print(f'Before cleaning, the data has {df.shape[0]} rows and {df.shape[1]} columns.')"
   ]
  },
  {
   "cell_type": "markdown",
   "id": "7390e935",
   "metadata": {},
   "source": [
    "<p style=style=\"font-size:15px;font-weight: bold;\">Dropping the ordinal data</p>"
   ]
  },
  {
   "cell_type": "code",
   "execution_count": 4,
   "id": "4148f7ed",
   "metadata": {},
   "outputs": [],
   "source": [
    "df=df[[i for i in df.columns if 'qual' not in i.lower()]]\n",
    "df=df[[i for i in df.columns if 'qc' not in i.lower()]]\n",
    "df=df[[i for i in df.columns if 'qu' not in i.lower()]]\n",
    "df=df[[i for i in df.columns if 'fintype' not in i.lower()]]\n",
    "df=df[[i for i in df.columns if 'cond' not in i.lower()[-4:]]]"
   ]
  },
  {
   "cell_type": "markdown",
   "id": "f262092d",
   "metadata": {},
   "source": [
    "<p style=style=\"font-size:15px;font-weight: bold;\">Dropping \"Miscellaneous\" columns</p>"
   ]
  },
  {
   "cell_type": "code",
   "execution_count": 5,
   "id": "c9752b34",
   "metadata": {},
   "outputs": [],
   "source": [
    "df=df.drop(columns=[ \"MiscFeature\", \"MiscVal\"])"
   ]
  },
  {
   "cell_type": "markdown",
   "id": "11e509cb",
   "metadata": {},
   "source": [
    "<p style=style=\"font-size:15px;font-weight: bold;\">Handling missing values</p>"
   ]
  },
  {
   "cell_type": "code",
   "execution_count": 6,
   "id": "34911483",
   "metadata": {},
   "outputs": [
    {
     "data": {
      "text/plain": [
       "3105"
      ]
     },
     "execution_count": 6,
     "metadata": {},
     "output_type": "execute_result"
    }
   ],
   "source": [
    "df.isna().sum().sum() #counting the number of missing values"
   ]
  },
  {
   "cell_type": "markdown",
   "id": "ff5ad97e",
   "metadata": {},
   "source": [
    "<p style=\"font-size:16px;\">There are almost 3000 missing values in the data set. I'll start handling the missing values by looking to see where they are.</p>"
   ]
  },
  {
   "cell_type": "code",
   "execution_count": 7,
   "id": "c9ea21da",
   "metadata": {},
   "outputs": [
    {
     "data": {
      "text/html": [
       "<div>\n",
       "<style scoped>\n",
       "    .dataframe tbody tr th:only-of-type {\n",
       "        vertical-align: middle;\n",
       "    }\n",
       "\n",
       "    .dataframe tbody tr th {\n",
       "        vertical-align: top;\n",
       "    }\n",
       "\n",
       "    .dataframe thead th {\n",
       "        text-align: right;\n",
       "    }\n",
       "</style>\n",
       "<table border=\"1\" class=\"dataframe\">\n",
       "  <thead>\n",
       "    <tr style=\"text-align: right;\">\n",
       "      <th></th>\n",
       "      <th>Number of Missing Values</th>\n",
       "    </tr>\n",
       "  </thead>\n",
       "  <tbody>\n",
       "    <tr>\n",
       "      <th>LotFrontage</th>\n",
       "      <td>259</td>\n",
       "    </tr>\n",
       "    <tr>\n",
       "      <th>Alley</th>\n",
       "      <td>1369</td>\n",
       "    </tr>\n",
       "    <tr>\n",
       "      <th>MasVnrType</th>\n",
       "      <td>8</td>\n",
       "    </tr>\n",
       "    <tr>\n",
       "      <th>MasVnrArea</th>\n",
       "      <td>8</td>\n",
       "    </tr>\n",
       "    <tr>\n",
       "      <th>BsmtExposure</th>\n",
       "      <td>38</td>\n",
       "    </tr>\n",
       "    <tr>\n",
       "      <th>Electrical</th>\n",
       "      <td>1</td>\n",
       "    </tr>\n",
       "    <tr>\n",
       "      <th>GarageType</th>\n",
       "      <td>81</td>\n",
       "    </tr>\n",
       "    <tr>\n",
       "      <th>GarageYrBlt</th>\n",
       "      <td>81</td>\n",
       "    </tr>\n",
       "    <tr>\n",
       "      <th>GarageFinish</th>\n",
       "      <td>81</td>\n",
       "    </tr>\n",
       "    <tr>\n",
       "      <th>Fence</th>\n",
       "      <td>1179</td>\n",
       "    </tr>\n",
       "  </tbody>\n",
       "</table>\n",
       "</div>"
      ],
      "text/plain": [
       "              Number of Missing Values\n",
       "LotFrontage                        259\n",
       "Alley                             1369\n",
       "MasVnrType                           8\n",
       "MasVnrArea                           8\n",
       "BsmtExposure                        38\n",
       "Electrical                           1\n",
       "GarageType                          81\n",
       "GarageYrBlt                         81\n",
       "GarageFinish                        81\n",
       "Fence                             1179"
      ]
     },
     "execution_count": 7,
     "metadata": {},
     "output_type": "execute_result"
    }
   ],
   "source": [
    "temp=df.isna().sum()\n",
    "pd.DataFrame(temp[temp[temp.index]!=0],columns=['Number of Missing Values'])"
   ]
  },
  {
   "cell_type": "markdown",
   "id": "6be3cfd0",
   "metadata": {},
   "source": [
    "<p style=\"font-size:16px;\">There are columns with a lot of missing data. I'll drop the columns that are missing more than 50% of the total number of entrities. 50% is an arbitrary choice, but it seems like a good starting point.</p>"
   ]
  },
  {
   "cell_type": "code",
   "execution_count": 8,
   "id": "b70a7c80",
   "metadata": {},
   "outputs": [],
   "source": [
    "df=df.drop(columns=temp[temp[temp.index]>0.5*1460].index)"
   ]
  },
  {
   "cell_type": "code",
   "execution_count": 9,
   "id": "b5c7b7cd",
   "metadata": {},
   "outputs": [
    {
     "data": {
      "text/html": [
       "<div>\n",
       "<style scoped>\n",
       "    .dataframe tbody tr th:only-of-type {\n",
       "        vertical-align: middle;\n",
       "    }\n",
       "\n",
       "    .dataframe tbody tr th {\n",
       "        vertical-align: top;\n",
       "    }\n",
       "\n",
       "    .dataframe thead th {\n",
       "        text-align: right;\n",
       "    }\n",
       "</style>\n",
       "<table border=\"1\" class=\"dataframe\">\n",
       "  <thead>\n",
       "    <tr style=\"text-align: right;\">\n",
       "      <th></th>\n",
       "      <th>Number of Missing Values</th>\n",
       "    </tr>\n",
       "  </thead>\n",
       "  <tbody>\n",
       "    <tr>\n",
       "      <th>LotFrontage</th>\n",
       "      <td>259</td>\n",
       "    </tr>\n",
       "    <tr>\n",
       "      <th>MasVnrType</th>\n",
       "      <td>8</td>\n",
       "    </tr>\n",
       "    <tr>\n",
       "      <th>MasVnrArea</th>\n",
       "      <td>8</td>\n",
       "    </tr>\n",
       "    <tr>\n",
       "      <th>BsmtExposure</th>\n",
       "      <td>38</td>\n",
       "    </tr>\n",
       "    <tr>\n",
       "      <th>Electrical</th>\n",
       "      <td>1</td>\n",
       "    </tr>\n",
       "    <tr>\n",
       "      <th>GarageType</th>\n",
       "      <td>81</td>\n",
       "    </tr>\n",
       "    <tr>\n",
       "      <th>GarageYrBlt</th>\n",
       "      <td>81</td>\n",
       "    </tr>\n",
       "    <tr>\n",
       "      <th>GarageFinish</th>\n",
       "      <td>81</td>\n",
       "    </tr>\n",
       "  </tbody>\n",
       "</table>\n",
       "</div>"
      ],
      "text/plain": [
       "              Number of Missing Values\n",
       "LotFrontage                        259\n",
       "MasVnrType                           8\n",
       "MasVnrArea                           8\n",
       "BsmtExposure                        38\n",
       "Electrical                           1\n",
       "GarageType                          81\n",
       "GarageYrBlt                         81\n",
       "GarageFinish                        81"
      ]
     },
     "execution_count": 9,
     "metadata": {},
     "output_type": "execute_result"
    }
   ],
   "source": [
    "temp=df.isna().sum()\n",
    "pd.DataFrame(temp[temp[temp.index]!=0],columns=['Number of Missing Values'])"
   ]
  },
  {
   "cell_type": "markdown",
   "id": "83d15a71",
   "metadata": {},
   "source": [
    "<p style=\"font-size:16px;\">For the rest of the data, I will impute the missing values using the Mice algorithm, then the median/mode depending on the variable type.</p>"
   ]
  },
  {
   "cell_type": "code",
   "execution_count": 10,
   "id": "f3ffbc18",
   "metadata": {},
   "outputs": [],
   "source": [
    " kernel = mf.ImputationKernel(\n",
    "  data=df[df.corr().columns],\n",
    "  save_all_iterations=True,\n",
    "  random_state=1991\n",
    ")\n",
    "kernel.mice(10)"
   ]
  },
  {
   "cell_type": "code",
   "execution_count": 11,
   "id": "e529c91b",
   "metadata": {},
   "outputs": [
    {
     "data": {
      "image/png": "[encoded data removed]",
      "text/plain": [
       "<Figure size 432x288 with 4 Axes>"
      ]
     },
     "metadata": {
      "needs_background": "light"
     },
     "output_type": "display_data"
    }
   ],
   "source": [
    "kernel.plot_correlations(wspace=1,hspace=1)"
   ]
  },
  {
   "cell_type": "markdown",
   "id": "bf141b2c",
   "metadata": {},
   "source": [
    "<p style=\"font-size:16px;\">The mice algorithm has high confidence in the imputations for variable 2 and 22 which correspond to 'LotFrontage' and 'GarageYrBlt', so I will impute values made by the algorithm in those columns</p>"
   ]
  },
  {
   "cell_type": "code",
   "execution_count": 12,
   "id": "dd69e891",
   "metadata": {},
   "outputs": [],
   "source": [
    "temp=[df.corr().columns[22],df.corr().columns[2]]"
   ]
  },
  {
   "cell_type": "code",
   "execution_count": 13,
   "id": "fb7bfb88",
   "metadata": {},
   "outputs": [],
   "source": [
    "new_data_imputed = kernel.impute_new_data(df[df.corr().columns])\n",
    "for i in temp:\n",
    "    df[i]=new_data_imputed.complete_data(0)[i]"
   ]
  },
  {
   "cell_type": "code",
   "execution_count": 14,
   "id": "96ea729b",
   "metadata": {},
   "outputs": [
    {
     "data": {
      "text/html": [
       "<div>\n",
       "<style scoped>\n",
       "    .dataframe tbody tr th:only-of-type {\n",
       "        vertical-align: middle;\n",
       "    }\n",
       "\n",
       "    .dataframe tbody tr th {\n",
       "        vertical-align: top;\n",
       "    }\n",
       "\n",
       "    .dataframe thead th {\n",
       "        text-align: right;\n",
       "    }\n",
       "</style>\n",
       "<table border=\"1\" class=\"dataframe\">\n",
       "  <thead>\n",
       "    <tr style=\"text-align: right;\">\n",
       "      <th></th>\n",
       "      <th>Number of Missing Values</th>\n",
       "    </tr>\n",
       "  </thead>\n",
       "  <tbody>\n",
       "    <tr>\n",
       "      <th>MasVnrType</th>\n",
       "      <td>8</td>\n",
       "    </tr>\n",
       "    <tr>\n",
       "      <th>MasVnrArea</th>\n",
       "      <td>8</td>\n",
       "    </tr>\n",
       "    <tr>\n",
       "      <th>BsmtExposure</th>\n",
       "      <td>38</td>\n",
       "    </tr>\n",
       "    <tr>\n",
       "      <th>Electrical</th>\n",
       "      <td>1</td>\n",
       "    </tr>\n",
       "    <tr>\n",
       "      <th>GarageType</th>\n",
       "      <td>81</td>\n",
       "    </tr>\n",
       "    <tr>\n",
       "      <th>GarageFinish</th>\n",
       "      <td>81</td>\n",
       "    </tr>\n",
       "  </tbody>\n",
       "</table>\n",
       "</div>"
      ],
      "text/plain": [
       "              Number of Missing Values\n",
       "MasVnrType                           8\n",
       "MasVnrArea                           8\n",
       "BsmtExposure                        38\n",
       "Electrical                           1\n",
       "GarageType                          81\n",
       "GarageFinish                        81"
      ]
     },
     "execution_count": 14,
     "metadata": {},
     "output_type": "execute_result"
    }
   ],
   "source": [
    "temp=df.isna().sum()\n",
    "pd.DataFrame(temp[temp[temp.index]!=0],columns=['Number of Missing Values'])"
   ]
  },
  {
   "cell_type": "markdown",
   "id": "9614a6c7",
   "metadata": {},
   "source": [
    "<p style=\"font-size:16px;\">For the remaining numeric columns, I impute the median because the mice algorithm couldn't converge on those values for imputation. I repeat my imputation process (<i>imputing the mice algorithm generated values for columns it could confidently impute then imputing the mode for the columns the algorithm couldn't confidently impute</i>) for the categorical variables aswell.</p>"
   ]
  },
  {
   "cell_type": "code",
   "execution_count": 15,
   "id": "5f57b27a",
   "metadata": {},
   "outputs": [],
   "source": [
    "quant=[i for i in temp[temp[temp.index]!=0].index if i in df.corr().columns]\n",
    "for col in quant:\n",
    "    df[col]=[i if i==i else df[col].median() for i in df[col]]"
   ]
  },
  {
   "cell_type": "code",
   "execution_count": 16,
   "id": "bba990c1",
   "metadata": {},
   "outputs": [
    {
     "data": {
      "text/html": [
       "<div>\n",
       "<style scoped>\n",
       "    .dataframe tbody tr th:only-of-type {\n",
       "        vertical-align: middle;\n",
       "    }\n",
       "\n",
       "    .dataframe tbody tr th {\n",
       "        vertical-align: top;\n",
       "    }\n",
       "\n",
       "    .dataframe thead th {\n",
       "        text-align: right;\n",
       "    }\n",
       "</style>\n",
       "<table border=\"1\" class=\"dataframe\">\n",
       "  <thead>\n",
       "    <tr style=\"text-align: right;\">\n",
       "      <th></th>\n",
       "      <th>Number of Missing Values</th>\n",
       "    </tr>\n",
       "  </thead>\n",
       "  <tbody>\n",
       "    <tr>\n",
       "      <th>MasVnrType</th>\n",
       "      <td>8</td>\n",
       "    </tr>\n",
       "    <tr>\n",
       "      <th>BsmtExposure</th>\n",
       "      <td>38</td>\n",
       "    </tr>\n",
       "    <tr>\n",
       "      <th>Electrical</th>\n",
       "      <td>1</td>\n",
       "    </tr>\n",
       "    <tr>\n",
       "      <th>GarageType</th>\n",
       "      <td>81</td>\n",
       "    </tr>\n",
       "    <tr>\n",
       "      <th>GarageFinish</th>\n",
       "      <td>81</td>\n",
       "    </tr>\n",
       "  </tbody>\n",
       "</table>\n",
       "</div>"
      ],
      "text/plain": [
       "              Number of Missing Values\n",
       "MasVnrType                           8\n",
       "BsmtExposure                        38\n",
       "Electrical                           1\n",
       "GarageType                          81\n",
       "GarageFinish                        81"
      ]
     },
     "execution_count": 16,
     "metadata": {},
     "output_type": "execute_result"
    }
   ],
   "source": [
    "temp=df.isna().sum()\n",
    "pd.DataFrame(temp[temp[temp.index]!=0],columns=['Number of Missing Values'])"
   ]
  },
  {
   "cell_type": "code",
   "execution_count": 17,
   "id": "d8ca4280",
   "metadata": {},
   "outputs": [
    {
     "data": {
      "image/png": "[encoded data removed]",
      "text/plain": [
       "<Figure size 432x288 with 6 Axes>"
      ]
     },
     "metadata": {
      "needs_background": "light"
     },
     "output_type": "display_data"
    }
   ],
   "source": [
    "temp=df.isna().sum()\n",
    "temp=pd.DataFrame(temp[temp[temp.index]!=0],columns=['Number of Missing Values'])\n",
    "\n",
    "labelencoder = LabelEncoder()\n",
    "qual=df[temp.index]\n",
    "for i in qual.columns:\n",
    "    qual[i+'_Imp']=labelencoder.fit_transform(qual[i])\n",
    "    \n",
    "for i in temp.index:\n",
    "    n=qual[qual[i]!=qual[i]][i+'_Imp'].value_counts().index[0]\n",
    "    qual[i+'_Imp']=[i if i !=n else None for i in qual[i+'_Imp']]\n",
    "    \n",
    "temp=df[df.corr().columns].join(qual.drop(columns=temp.index))\n",
    "\n",
    "kernel = mf.ImputationKernel(\n",
    "  data=temp,\n",
    "  save_all_iterations=True,\n",
    "  random_state=1991\n",
    ")\n",
    "kernel.mice(10)\n",
    "\n",
    "kernel.plot_correlations(wspace=1,hspace=1)"
   ]
  },
  {
   "cell_type": "code",
   "execution_count": 18,
   "id": "5b94b334",
   "metadata": {},
   "outputs": [],
   "source": [
    "cols=[temp.columns[37],temp.columns[38]]\n",
    "new_data_imputed = kernel.impute_new_data(temp)\n",
    "temp=qual.columns[int(len(qual.columns)/2):]\n",
    "for col in cols:\n",
    "    qual[col]=new_data_imputed.complete_data(0)[col]\n",
    "    \n",
    "qual=qual[[i[:-4] for i in cols]+cols]\n",
    "cols=[i[:-4] for i in cols]\n",
    "\n",
    "for i in cols:\n",
    "    temp=qual[[j for j in qual.columns if i in j]]\n",
    "    temp=temp.drop_duplicates().dropna()\n",
    "    d={}\n",
    "    for j in temp.values:\n",
    "        d[j[1]]=j[0]\n",
    "    col=pd.DataFrame(qual[i+'_Imp'])\n",
    "    qual[i+'_Imp']=col.applymap(lambda x: d[x])\n",
    "    \n",
    "qual=qual.drop(columns=cols)\n",
    "qual.columns=cols\n",
    "for i in cols:\n",
    "    df[i]=qual[i]"
   ]
  },
  {
   "cell_type": "code",
   "execution_count": 19,
   "id": "357205e5",
   "metadata": {},
   "outputs": [
    {
     "data": {
      "text/html": [
       "<div>\n",
       "<style scoped>\n",
       "    .dataframe tbody tr th:only-of-type {\n",
       "        vertical-align: middle;\n",
       "    }\n",
       "\n",
       "    .dataframe tbody tr th {\n",
       "        vertical-align: top;\n",
       "    }\n",
       "\n",
       "    .dataframe thead th {\n",
       "        text-align: right;\n",
       "    }\n",
       "</style>\n",
       "<table border=\"1\" class=\"dataframe\">\n",
       "  <thead>\n",
       "    <tr style=\"text-align: right;\">\n",
       "      <th></th>\n",
       "      <th>Number of Missing Values</th>\n",
       "    </tr>\n",
       "  </thead>\n",
       "  <tbody>\n",
       "    <tr>\n",
       "      <th>MasVnrType</th>\n",
       "      <td>8</td>\n",
       "    </tr>\n",
       "    <tr>\n",
       "      <th>BsmtExposure</th>\n",
       "      <td>38</td>\n",
       "    </tr>\n",
       "    <tr>\n",
       "      <th>Electrical</th>\n",
       "      <td>1</td>\n",
       "    </tr>\n",
       "  </tbody>\n",
       "</table>\n",
       "</div>"
      ],
      "text/plain": [
       "              Number of Missing Values\n",
       "MasVnrType                           8\n",
       "BsmtExposure                        38\n",
       "Electrical                           1"
      ]
     },
     "execution_count": 19,
     "metadata": {},
     "output_type": "execute_result"
    }
   ],
   "source": [
    "temp=df.isna().sum()\n",
    "pd.DataFrame(temp[temp[temp.index]!=0],columns=['Number of Missing Values'])"
   ]
  },
  {
   "cell_type": "markdown",
   "id": "3f397f8e",
   "metadata": {},
   "source": [
    "<p style=\"font-size:16px;\">The columns above are the columns the mice algorithm couldn't confidently impute so i will impute each column with its respective mode.</p>"
   ]
  },
  {
   "cell_type": "code",
   "execution_count": 20,
   "id": "6c6642a0",
   "metadata": {},
   "outputs": [],
   "source": [
    "qual=pd.DataFrame(temp[temp[temp.index]!=0],columns=['Number of Missing Values'])\n",
    "qual=qual.index\n",
    "for col in qual:\n",
    "    df[col]=[i if i==i else df[col].describe()['top'] for i in df[col]]"
   ]
  },
  {
   "cell_type": "code",
   "execution_count": 21,
   "id": "e0228d9f",
   "metadata": {},
   "outputs": [
    {
     "data": {
      "text/plain": [
       "0"
      ]
     },
     "execution_count": 21,
     "metadata": {},
     "output_type": "execute_result"
    }
   ],
   "source": [
    "df.isna().sum().sum() #counting the number of missing values"
   ]
  },
  {
   "cell_type": "markdown",
   "id": "ff0bd052",
   "metadata": {},
   "source": [
    "<p style=\"font-size:16px;\">I've removed all of the missing values.</p>"
   ]
  },
  {
   "cell_type": "code",
   "execution_count": 22,
   "id": "223b9956",
   "metadata": {},
   "outputs": [
    {
     "name": "stdout",
     "output_type": "stream",
     "text": [
      "After cleaning, the data has 1460 rows and 62 columns.\n"
     ]
    }
   ],
   "source": [
    "temp=df.shape\n",
    "print(f'After cleaning, the data has {temp[0]} rows and {temp[1]} columns.')"
   ]
  },
  {
   "cell_type": "code",
   "execution_count": 23,
   "id": "3f866046",
   "metadata": {},
   "outputs": [],
   "source": [
    "df.to_csv('./../data/train_clean.csv',index=False)"
   ]
  }
 ],
 "metadata": {
  "kernelspec": {
   "display_name": "Python 3",
   "language": "python",
   "name": "python3"
  },
  "language_info": {
   "codemirror_mode": {
    "name": "ipython",
    "version": 3
   },
   "file_extension": ".py",
   "mimetype": "text/x-python",
   "name": "python",
   "nbconvert_exporter": "python",
   "pygments_lexer": "ipython3",
   "version": "3.8.8"
  }
 },
 "nbformat": 4,
 "nbformat_minor": 5
}
